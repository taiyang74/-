{
 "cells": [
  {
   "cell_type": "code",
   "execution_count": 2,
   "id": "37ea616e",
   "metadata": {},
   "outputs": [
    {
     "name": "stdout",
     "output_type": "stream",
     "text": [
      "第 10 次运动时的情况：\n",
      "反弹高度：0.0977 米\n",
      "经过的总路程：299.9023 米\n",
      "运动的总时间：25.2510 秒\n"
     ]
    }
   ],
   "source": [
    "import math\n",
    "\n",
    "def ball_motion(n, h0=100.0, g=10.0):\n",
    "    \"\"\"\n",
    "    计算球在第 n 次下落并反弹到最高点时的运动情况。\n",
    "    \n",
    "    参数:\n",
    "        n   -- 第 n 次运动（下落并反弹）的编号（n>=1）\n",
    "        h0  -- 初始高度（单位：米），默认为 100 米\n",
    "        g   -- 重力加速度（单位：m/s^2），默认为 10 m/s^2\n",
    "    \n",
    "    返回:\n",
    "        rebound_height -- 第 n 次反弹到的最高高度（单位：米）\n",
    "        total_distance -- 到第 n 次反弹时球经过的总路程（单位：米）\n",
    "        total_time     -- 到第 n 次反弹时的总运动时间（单位：秒）\n",
    "    \"\"\"\n",
    "    \n",
    "    # 第 n 次反弹高度：每次反弹为前一次高度的一半\n",
    "    rebound_height = h0 * (0.5) ** n\n",
    "\n",
    "    # 计算总路程：\n",
    "    # 初始下落的距离\n",
    "    total_distance = h0\n",
    "    \n",
    "    # 记录当前下落的高度，初始为 h0\n",
    "    current_height = h0\n",
    "    \n",
    "    # 累加每次下落与反弹的距离\n",
    "    # 注意：对于前 n-1 次运动，每次包括一次反弹上升和紧接着的下落\n",
    "    # 对于第 n 次，只包括反弹上升\n",
    "    for i in range(1, n):\n",
    "        rebound = current_height / 2\n",
    "        # 下落的距离（已经在上一次反弹后到达当前高度，这里计算从该高度下落）\n",
    "        total_distance += rebound  # 下落距离等于上次反弹高度\n",
    "        # 反弹上升的距离\n",
    "        total_distance += rebound\n",
    "        # 更新当前高度为此次反弹达到的高度\n",
    "        current_height = rebound\n",
    "    \n",
    "    # 第 n 次下落（从上一次反弹高度到地面）和反弹上升\n",
    "    # 先下落，再反弹上升（此时反弹高度即为 rebound_height）\n",
    "    total_distance += current_height  # 下落\n",
    "    total_distance += current_height / 2  # 反弹上升\n",
    "    # 注意：current_height/2 与前面计算结果应等于 rebound_height\n",
    "\n",
    "    # 计算总时间：\n",
    "    total_time = 0.0\n",
    "    current_height = h0\n",
    "    for i in range(1, n+1):\n",
    "        # 下落时间: t = sqrt(2*h/g)\n",
    "        t_fall = math.sqrt(2 * current_height / g)\n",
    "        # 反弹时间: 由于上升到 h/2, 时间 t = sqrt(2*(h/2)/g) = sqrt(h/g)\n",
    "        t_up = math.sqrt(current_height / g)\n",
    "        total_time += t_fall + t_up\n",
    "        # 更新当前高度：每次反弹后高度减半\n",
    "        current_height = current_height / 2\n",
    "\n",
    "    return rebound_height, total_distance, total_time\n",
    "\n",
    "if __name__ == '__main__': #主要目的是让模块在直接运行时可以执行这些测试代码，而在被其他模块导入时不执行这些代码。\n",
    "    # 示例：计算第 10 次运动时的情况\n",
    "    n = 10\n",
    "    rebound_h, total_d, total_t = ball_motion(n)\n",
    "    \n",
    "    # 输出结果\n",
    "    print(\"第 {} 次运动时的情况：\".format(n))\n",
    "    print(\"反弹高度：{:.4f} 米\".format(rebound_h))\n",
    "    print(\"经过的总路程：{:.4f} 米\".format(total_d))\n",
    "    print(\"运动的总时间：{:.4f} 秒\".format(total_t))\n"
   ]
  },
  {
   "cell_type": "code",
   "execution_count": null,
   "id": "7d8cd011",
   "metadata": {},
   "outputs": [],
   "source": []
  }
 ],
 "metadata": {
  "kernelspec": {
   "display_name": "Python 3 (ipykernel)",
   "language": "python",
   "name": "python3"
  },
  "language_info": {
   "codemirror_mode": {
    "name": "ipython",
    "version": 3
   },
   "file_extension": ".py",
   "mimetype": "text/x-python",
   "name": "python",
   "nbconvert_exporter": "python",
   "pygments_lexer": "ipython3",
   "version": "3.7.12"
  }
 },
 "nbformat": 4,
 "nbformat_minor": 5
}
